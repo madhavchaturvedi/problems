{
 "cells": [
  {
   "cell_type": "code",
   "execution_count": 2,
   "id": "f83804f2",
   "metadata": {},
   "outputs": [],
   "source": [
    "from pyspark.sql import SparkSession\n",
    "from pyspark.sql.functions import col\n",
    "\n",
    "spark=SparkSession.builder.appName(\"testing_incube\").getOrCreate()\n",
    "\n",
    "#if we have source data in database then we can read it from that source using sparkSQl here i took data from folder.\n",
    "vaccine_data_df=spark.read.option(\"delimiter\",\"|\").option(\"header\",\"true\").csv(\"./source_data/\")\n",
    "#if we want any data extraction or elimination we can do it here too or can remove unused columns\n",
    "countries_list=vaccine_data.select('Country').distinct().rdd.map(lambda r: r[0]).collect()\n",
    "\n",
    "countrywise_df={}\n",
    "for country in countries_list:\n",
    "    #added coalesce for dataframe generation without partition and single output file.\n",
    "    countrywise_df[country] = vaccine_data.filter(col('Country')==country).coalesce(1)\n",
    "    #countrywise_df[country].write.saveAsTable(\"Table_\"+str(country))\n",
    "    #if we want data in to some table or in any database we can do that as well.\n",
    "    countrywise_df[country].write.option('delimiter','|').csv(\"outputData/Table_\"+str(country))\n"
   ]
  },
  {
   "cell_type": "code",
   "execution_count": null,
   "id": "767da477",
   "metadata": {},
   "outputs": [],
   "source": []
  }
 ],
 "metadata": {
  "kernelspec": {
   "display_name": "Python 3",
   "language": "python",
   "name": "python3"
  },
  "language_info": {
   "codemirror_mode": {
    "name": "ipython",
    "version": 3
   },
   "file_extension": ".py",
   "mimetype": "text/x-python",
   "name": "python",
   "nbconvert_exporter": "python",
   "pygments_lexer": "ipython3",
   "version": "3.6.8"
  }
 },
 "nbformat": 4,
 "nbformat_minor": 5
}
